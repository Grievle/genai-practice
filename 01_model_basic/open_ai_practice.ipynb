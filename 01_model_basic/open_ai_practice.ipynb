{
 "cells": [
  {
   "cell_type": "markdown",
   "id": "903072fe-e411-4dbb-93d3-25ddb52dad1f",
   "metadata": {},
   "source": [
    "# Settings"
   ]
  },
  {
   "cell_type": "code",
   "execution_count": 7,
   "id": "f1030184-0f0d-47e1-b103-abfb38c8b663",
   "metadata": {
    "execution": {
     "iopub.execute_input": "2024-12-22T06:19:15.494217Z",
     "iopub.status.busy": "2024-12-22T06:19:15.493991Z",
     "iopub.status.idle": "2024-12-22T06:19:15.497482Z",
     "shell.execute_reply": "2024-12-22T06:19:15.496811Z",
     "shell.execute_reply.started": "2024-12-22T06:19:15.494202Z"
    }
   },
   "outputs": [],
   "source": [
    "import os\n",
    "import getpass\n",
    "from dotenv import load_dotenv"
   ]
  },
  {
   "cell_type": "markdown",
   "id": "c8b66278-e74b-4e41-b735-fec8a8687f6f",
   "metadata": {},
   "source": [
    "## 1. python-dotenv를 통한 api"
   ]
  },
  {
   "cell_type": "code",
   "execution_count": 5,
   "id": "f358559e-6a2e-4e2c-9bbc-35a125433c30",
   "metadata": {
    "execution": {
     "iopub.execute_input": "2024-12-22T06:15:08.003306Z",
     "iopub.status.busy": "2024-12-22T06:15:08.003097Z",
     "iopub.status.idle": "2024-12-22T06:15:08.007812Z",
     "shell.execute_reply": "2024-12-22T06:15:08.006884Z",
     "shell.execute_reply.started": "2024-12-22T06:15:08.003292Z"
    }
   },
   "outputs": [],
   "source": [
    "# .env 파일로부터 api key 가져오기\n",
    "load_dotenv()\n",
    "OPENAI_API_KEY = os.environ.get(\"OPENAI_API_KEY\")"
   ]
  },
  {
   "cell_type": "markdown",
   "id": "04e77baf-5f6e-450a-82d3-a53d600da3e5",
   "metadata": {},
   "source": [
    "## 2. getpass의 입력을 통한 api"
   ]
  },
  {
   "cell_type": "code",
   "execution_count": null,
   "id": "089f34ba-6223-4579-9f52-9d9f6cb1ba20",
   "metadata": {},
   "outputs": [],
   "source": [
    "os.environ['OPENAI_API_KEY'] = getpass.getpass(f\"Please provide your OPENAI_API_KEY\")"
   ]
  },
  {
   "cell_type": "markdown",
   "id": "992ffc75-ae45-4262-9100-944aeec102a2",
   "metadata": {},
   "source": [
    "# API Setting 방법"
   ]
  },
  {
   "cell_type": "markdown",
   "id": "87395f4a-1c77-42bc-a64a-16b61bd1ef9f",
   "metadata": {},
   "source": [
    "## 1. Open AI Playground"
   ]
  },
  {
   "cell_type": "code",
   "execution_count": 6,
   "id": "2637a66b-4605-4e95-bd6f-c0dc02d1ebb7",
   "metadata": {
    "execution": {
     "iopub.execute_input": "2024-12-22T06:19:09.438858Z",
     "iopub.status.busy": "2024-12-22T06:19:09.438648Z",
     "iopub.status.idle": "2024-12-22T06:19:09.491276Z",
     "shell.execute_reply": "2024-12-22T06:19:09.490713Z",
     "shell.execute_reply.started": "2024-12-22T06:19:09.438843Z"
    }
   },
   "outputs": [],
   "source": [
    "from openai import OpenAI\n",
    "\n",
    "client = OpenAI(\n",
    "    api_key=os.getenv('OPENAI_API_KEY')\n",
    ")"
   ]
  },
  {
   "cell_type": "markdown",
   "id": "39912ed2-684d-4c83-8367-0e3e0382c813",
   "metadata": {},
   "source": [
    "### 1.1. Model List"
   ]
  },
  {
   "cell_type": "code",
   "execution_count": 14,
   "id": "d466001a-0669-4c9a-9a5e-2971f1edb452",
   "metadata": {
    "execution": {
     "iopub.execute_input": "2024-12-22T06:20:10.280953Z",
     "iopub.status.busy": "2024-12-22T06:20:10.280412Z",
     "iopub.status.idle": "2024-12-22T06:20:11.074024Z",
     "shell.execute_reply": "2024-12-22T06:20:11.073378Z",
     "shell.execute_reply.started": "2024-12-22T06:20:10.280932Z"
    }
   },
   "outputs": [
    {
     "name": "stdout",
     "output_type": "stream",
     "text": [
      "gpt-4o-audio-preview-2024-10-01\n",
      "gpt-4o-realtime-preview\n",
      "gpt-4o-realtime-preview-2024-10-01\n",
      "o1-mini-2024-09-12\n",
      "dall-e-2\n",
      "gpt-4-turbo\n",
      "gpt-4-1106-preview\n",
      "gpt-4o-2024-08-06\n",
      "gpt-4o\n",
      "gpt-3.5-turbo\n",
      "gpt-3.5-turbo-0125\n",
      "gpt-3.5-turbo-instruct\n",
      "babbage-002\n",
      "davinci-002\n",
      "whisper-1\n",
      "dall-e-3\n",
      "text-embedding-3-small\n",
      "gpt-3.5-turbo-16k-0613\n",
      "gpt-3.5-turbo-16k\n",
      "gpt-4-0125-preview\n",
      "gpt-4-turbo-preview\n",
      "omni-moderation-latest\n",
      "gpt-4o-2024-05-13\n",
      "omni-moderation-2024-09-26\n",
      "tts-1-hd-1106\n",
      "chatgpt-4o-latest\n",
      "gpt-4\n",
      "gpt-4-0613\n",
      "gpt-4o-mini-2024-07-18\n",
      "o1-mini\n",
      "gpt-4o-mini\n",
      "o1-preview\n",
      "o1-preview-2024-09-12\n",
      "tts-1-hd\n",
      "text-embedding-ada-002\n",
      "gpt-3.5-turbo-1106\n",
      "gpt-4o-audio-preview\n",
      "tts-1\n",
      "tts-1-1106\n",
      "gpt-3.5-turbo-instruct-0914\n",
      "text-embedding-3-large\n",
      "gpt-4o-realtime-preview-2024-12-17\n",
      "gpt-4o-mini-realtime-preview\n",
      "gpt-4o-mini-realtime-preview-2024-12-17\n",
      "gpt-4o-2024-11-20\n",
      "gpt-4o-audio-preview-2024-12-17\n",
      "gpt-4o-mini-audio-preview\n",
      "gpt-4o-mini-audio-preview-2024-12-17\n",
      "gpt-4-turbo-2024-04-09\n"
     ]
    }
   ],
   "source": [
    "for model in client.models.list().data:\n",
    "    print(model.id)"
   ]
  },
  {
   "cell_type": "markdown",
   "id": "b3a79cfc-bf2b-4528-9c1a-b4f64a87b5fb",
   "metadata": {},
   "source": [
    "### 1.2. Chat Completion\n",
    "[OpenAI Chat Completion](https://platform.openai.com/docs/api-reference/chat/create)"
   ]
  },
  {
   "cell_type": "code",
   "execution_count": 19,
   "id": "c23bb6a0-4af0-401b-8763-d7e5ae02cfa7",
   "metadata": {
    "execution": {
     "iopub.execute_input": "2024-12-22T06:39:12.759454Z",
     "iopub.status.busy": "2024-12-22T06:39:12.758357Z",
     "iopub.status.idle": "2024-12-22T06:39:12.762718Z",
     "shell.execute_reply": "2024-12-22T06:39:12.761748Z",
     "shell.execute_reply.started": "2024-12-22T06:39:12.759433Z"
    }
   },
   "outputs": [],
   "source": [
    "model = \"gpt-4o-mini\"\n",
    "is_stream = False"
   ]
  },
  {
   "cell_type": "code",
   "execution_count": 23,
   "id": "5967e525-8527-412d-9e59-e29e13e08b3d",
   "metadata": {
    "execution": {
     "iopub.execute_input": "2024-12-22T06:39:46.052953Z",
     "iopub.status.busy": "2024-12-22T06:39:46.052397Z",
     "iopub.status.idle": "2024-12-22T06:39:47.081106Z",
     "shell.execute_reply": "2024-12-22T06:39:47.080014Z",
     "shell.execute_reply.started": "2024-12-22T06:39:46.052933Z"
    }
   },
   "outputs": [],
   "source": [
    "completion = client.chat.completions.create(\n",
    "    model=model,\n",
    "    messages=[{\"role\": \"user\", \"content\": \"Hi! Who are you?\"}],\n",
    "    stream=is_stream\n",
    ")"
   ]
  },
  {
   "cell_type": "code",
   "execution_count": 28,
   "id": "c1a384a6-5058-4ca2-b0c5-5c67f4cecd1f",
   "metadata": {
    "execution": {
     "iopub.execute_input": "2024-12-22T06:40:16.579272Z",
     "iopub.status.busy": "2024-12-22T06:40:16.578663Z",
     "iopub.status.idle": "2024-12-22T06:40:16.583843Z",
     "shell.execute_reply": "2024-12-22T06:40:16.582505Z",
     "shell.execute_reply.started": "2024-12-22T06:40:16.579252Z"
    }
   },
   "outputs": [
    {
     "name": "stdout",
     "output_type": "stream",
     "text": [
      "Hello! I'm an AI language model created by OpenAI, designed to assist with answering questions, providing information, and engaging in conversation on a wide range of topics. How can I help you today?\n"
     ]
    }
   ],
   "source": [
    "if is_stream:\n",
    "    for chunk in completion:\n",
    "        print(chunk.choices[0].delta.content, end=\"\")\n",
    "else:\n",
    "    print(completion.choices[0].message.content)"
   ]
  }
 ],
 "metadata": {
  "kernelspec": {
   "display_name": "genai",
   "language": "python",
   "name": ".genai"
  },
  "language_info": {
   "codemirror_mode": {
    "name": "ipython",
    "version": 3
   },
   "file_extension": ".py",
   "mimetype": "text/x-python",
   "name": "python",
   "nbconvert_exporter": "python",
   "pygments_lexer": "ipython3",
   "version": "3.12.3"
  }
 },
 "nbformat": 4,
 "nbformat_minor": 5
}
